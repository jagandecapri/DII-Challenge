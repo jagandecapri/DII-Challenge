{
 "cells": [
  {
   "cell_type": "code",
   "execution_count": null,
   "source": [
    "import pandas as pd"
   ],
   "outputs": [],
   "metadata": {}
  },
  {
   "cell_type": "code",
   "execution_count": null,
   "source": [],
   "outputs": [],
   "metadata": {}
  }
 ],
 "metadata": {
  "orig_nbformat": 4,
  "language_info": {
   "name": "python",
   "version": "3.9.7"
  },
  "kernelspec": {
   "name": "python3",
   "display_name": "Python 3.9.7 64-bit ('dii_challenge': conda)"
  },
  "interpreter": {
   "hash": "21c234272a012e3c5f2d411022238269d29078fc3dae0049ae9ec9135a434e82"
  }
 },
 "nbformat": 4,
 "nbformat_minor": 2
}